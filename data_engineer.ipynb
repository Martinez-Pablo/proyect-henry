{
 "cells": [
  {
   "cell_type": "code",
   "execution_count": 1,
   "metadata": {},
   "outputs": [],
   "source": [
    "import pandas as pd \n",
    "import numpy as np \n",
    "import json \n",
    "import ast"
   ]
  },
  {
   "cell_type": "code",
   "execution_count": null,
   "metadata": {},
   "outputs": [],
   "source": [
    "# Cargamos el archivo a normalizar \n",
    "data = pd.read_csv('./dataset/movies_dataset.csv')"
   ]
  },
  {
   "cell_type": "code",
   "execution_count": null,
   "metadata": {},
   "outputs": [],
   "source": [
    "#Establecemos una lista de las columnas que vamos a elimnar porque no utilizaremos en nuestro analisis\n",
    "columnas_eliminar = ['adult', 'homepage', 'imdb_id', 'original_title', 'poster_path', 'video', 'vote_count']\n",
    "#Las eliminamos de nuestro dataframe \n",
    "data = data.drop(columnas_eliminar, axis = 1)"
   ]
  },
  {
   "cell_type": "code",
   "execution_count": null,
   "metadata": {},
   "outputs": [],
   "source": [
    "#Realizamos una copia de respaldo de nuestro dataframe por posibles errores futuros \n",
    "data_copy = data.copy()"
   ]
  },
  {
   "cell_type": "code",
   "execution_count": null,
   "metadata": {},
   "outputs": [],
   "source": [
    "#Creamos una funcion para extraer el nombre de los generos de cada diccionario\n",
    "def extraer_nombre(obj): \n",
    "    if isinstance(obj, str) and '{' in obj:\n",
    "        L=[]\n",
    "        for i in ast.literal_eval(obj):\n",
    "            L.append(i['name']);\n",
    "        return L\n",
    "\n",
    "#La funcion literal_eval convierte la columna de texto a lista de diccionarios "
   ]
  },
  {
   "cell_type": "code",
   "execution_count": null,
   "metadata": {},
   "outputs": [],
   "source": [
    "#Remplazamos la columna de genres con la nueva lista de los generos en nuestro dataframe\n",
    "data['genres']=data['genres'].apply(extraer_nombre)"
   ]
  },
  {
   "cell_type": "code",
   "execution_count": null,
   "metadata": {},
   "outputs": [],
   "source": [
    "#Definimos otra funcion para extraer los nombres de las franquicias \n",
    "def extraer_nombre2(obj): \n",
    "    \n",
    "    if isinstance(obj, str) and '{' in obj:\n",
    "        dic = ast.literal_eval(obj)\n",
    "        return dic['name']"
   ]
  },
  {
   "cell_type": "code",
   "execution_count": null,
   "metadata": {},
   "outputs": [],
   "source": [
    "data['belongs_to_collection'] = data['belongs_to_collection'].apply(extraer_nombre2)"
   ]
  },
  {
   "cell_type": "code",
   "execution_count": null,
   "metadata": {},
   "outputs": [],
   "source": [
    "#Aplicamos la funcion al resto de las columnas con el mismo formato \n",
    "data['production_companies']=data['production_companies'].apply(extraer_nombre)\n",
    "data['production_countries']=data['production_countries'].apply(extraer_nombre)\n",
    "data['spoken_languages']=data['spoken_languages'].apply(extraer_nombre)"
   ]
  },
  {
   "cell_type": "code",
   "execution_count": null,
   "metadata": {},
   "outputs": [],
   "source": [
    "valores_nulos = data['budget'].isnull().sum()\n",
    "valores_vacios = data['budget'].eq('').sum()\n",
    "\n",
    "#Mostramos los resultados\n",
    "print(f\"Valores nulos en '{'budget'}': {valores_nulos}\")\n",
    "print(f\"Valores vacíos en '{'budget'}': {valores_vacios}\")"
   ]
  },
  {
   "cell_type": "code",
   "execution_count": null,
   "metadata": {},
   "outputs": [],
   "source": [
    "valores_nulos = data['revenue'].isnull().sum()\n",
    "valores_vacios = data['revenue'].eq('').sum()\n",
    "\n",
    "#Mostramos los resultados\n",
    "print(f\"Valores nulos en '{'revenue'}': {valores_nulos}\")\n",
    "print(f\"Valores vacíos en '{'revenue'}': {valores_vacios}\")"
   ]
  },
  {
   "cell_type": "code",
   "execution_count": null,
   "metadata": {},
   "outputs": [],
   "source": [
    "#Reemplazamos los valores nulos por un valor especifico\n",
    "data['revenue'] = data['revenue'].fillna(0)"
   ]
  },
  {
   "cell_type": "code",
   "execution_count": null,
   "metadata": {},
   "outputs": [],
   "source": [
    "valores_nulos = data['release_date'].isnull().sum()\n",
    "print(f\"Valores nulos en '{'release_date'}': {valores_nulos}\")"
   ]
  },
  {
   "cell_type": "code",
   "execution_count": null,
   "metadata": {},
   "outputs": [],
   "source": [
    "data = data.dropna(subset = ['release_date'])"
   ]
  },
  {
   "cell_type": "code",
   "execution_count": null,
   "metadata": {},
   "outputs": [],
   "source": [
    "data['release_date'] = pd.to_datetime(data['release_date'], errors='coerce')"
   ]
  },
  {
   "cell_type": "code",
   "execution_count": null,
   "metadata": {},
   "outputs": [],
   "source": [
    "data['release_year'] = data['release_date'].dt.year "
   ]
  },
  {
   "cell_type": "code",
   "execution_count": null,
   "metadata": {},
   "outputs": [],
   "source": [
    "#Contamos cuantos valores NaT tenemos en la columna y los eliminamos\n",
    "count_nats = data['release_date'].isna().sum()\n",
    "count_nats"
   ]
  },
  {
   "cell_type": "code",
   "execution_count": null,
   "metadata": {},
   "outputs": [],
   "source": [
    "data = data.dropna(subset=['release_date'])"
   ]
  },
  {
   "cell_type": "code",
   "execution_count": null,
   "metadata": {},
   "outputs": [],
   "source": [
    "#Creamos columna return \n",
    "#Para esto primero debemos convertir la columna budget a numerica \n",
    "data['budget'] = pd.to_numeric(data['budget'])"
   ]
  },
  {
   "cell_type": "code",
   "execution_count": null,
   "metadata": {},
   "outputs": [],
   "source": [
    "#Creamos la columna return \n",
    "data['return'] = np.where((data['budget'] == 0) | (data['revenue'] == 0), 0, data['revenue'] / data['budget'])"
   ]
  },
  {
   "cell_type": "code",
   "execution_count": null,
   "metadata": {},
   "outputs": [],
   "source": [
    "#Creamos columna del mes de lanzamiento y dia de la semana de lanzamiento\n",
    "data['release_month'] = data['release_date'].dt.month_name(locale = 'es_ES').str.lower()"
   ]
  },
  {
   "cell_type": "code",
   "execution_count": null,
   "metadata": {},
   "outputs": [],
   "source": [
    "data['release_day'] = data['release_date'].dt.day_name(locale='es_ES').str.lower()"
   ]
  },
  {
   "cell_type": "code",
   "execution_count": null,
   "metadata": {},
   "outputs": [],
   "source": [
    "#Proceso terminado lo extraemos como un csv\n",
    "data.to_csv(\"C:/Users/marti/Desktop/PI - MLOps/dataset/movies_clean.csv\", index=False)\n"
   ]
  }
 ],
 "metadata": {
  "kernelspec": {
   "display_name": "Python 3",
   "language": "python",
   "name": "python3"
  },
  "language_info": {
   "codemirror_mode": {
    "name": "ipython",
    "version": 3
   },
   "file_extension": ".py",
   "mimetype": "text/x-python",
   "name": "python",
   "nbconvert_exporter": "python",
   "pygments_lexer": "ipython3",
   "version": "3.11.1"
  },
  "orig_nbformat": 4
 },
 "nbformat": 4,
 "nbformat_minor": 2
}
