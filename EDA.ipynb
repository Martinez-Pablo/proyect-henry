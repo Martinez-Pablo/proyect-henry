{
 "cells": [
  {
   "attachments": {},
   "cell_type": "markdown",
   "metadata": {},
   "source": [
    "Mendiante la funcion pickle exportamos la lista de titulos pkl para ser usada en el modelo de prediccion"
   ]
  },
  {
   "cell_type": "code",
   "execution_count": 3,
   "metadata": {},
   "outputs": [],
   "source": [
    "import pandas as pd"
   ]
  },
  {
   "cell_type": "code",
   "execution_count": 7,
   "metadata": {},
   "outputs": [],
   "source": [
    "cols = ['title']\n",
    "data = pd.read_csv('./movies_clean.csv', usecols=cols)\n",
    "movies = data.head(17000)"
   ]
  },
  {
   "cell_type": "code",
   "execution_count": null,
   "metadata": {},
   "outputs": [],
   "source": [
    "movies.dropna(inplace=True)"
   ]
  },
  {
   "cell_type": "code",
   "execution_count": 9,
   "metadata": {},
   "outputs": [
    {
     "data": {
      "text/html": [
       "<div>\n",
       "<style scoped>\n",
       "    .dataframe tbody tr th:only-of-type {\n",
       "        vertical-align: middle;\n",
       "    }\n",
       "\n",
       "    .dataframe tbody tr th {\n",
       "        vertical-align: top;\n",
       "    }\n",
       "\n",
       "    .dataframe thead th {\n",
       "        text-align: right;\n",
       "    }\n",
       "</style>\n",
       "<table border=\"1\" class=\"dataframe\">\n",
       "  <thead>\n",
       "    <tr style=\"text-align: right;\">\n",
       "      <th></th>\n",
       "      <th>title</th>\n",
       "    </tr>\n",
       "  </thead>\n",
       "  <tbody>\n",
       "    <tr>\n",
       "      <th>0</th>\n",
       "      <td>Toy Story</td>\n",
       "    </tr>\n",
       "    <tr>\n",
       "      <th>1</th>\n",
       "      <td>Jumanji</td>\n",
       "    </tr>\n",
       "  </tbody>\n",
       "</table>\n",
       "</div>"
      ],
      "text/plain": [
       "       title\n",
       "0  Toy Story\n",
       "1    Jumanji"
      ]
     },
     "execution_count": 9,
     "metadata": {},
     "output_type": "execute_result"
    }
   ],
   "source": [
    "movies.head(2)"
   ]
  },
  {
   "cell_type": "code",
   "execution_count": 10,
   "metadata": {},
   "outputs": [],
   "source": [
    "import pickle "
   ]
  },
  {
   "cell_type": "code",
   "execution_count": 11,
   "metadata": {},
   "outputs": [],
   "source": [
    "pickle.dump(movies.to_dict(), open('listado.pkl', 'wb'))"
   ]
  },
  {
   "attachments": {},
   "cell_type": "markdown",
   "metadata": {},
   "source": [
    "La funcion de predictora esta desarrollada en el archivo main"
   ]
  },
  {
   "attachments": {},
   "cell_type": "markdown",
   "metadata": {},
   "source": [
    "## EDA\n"
   ]
  },
  {
   "cell_type": "code",
   "execution_count": 1,
   "metadata": {},
   "outputs": [],
   "source": [
    "import numpy as np \n",
    "import matplotlib.pyplot as plt \n",
    "import seaborn as sns "
   ]
  },
  {
   "cell_type": "code",
   "execution_count": 4,
   "metadata": {},
   "outputs": [],
   "source": [
    "df = pd.read_csv('./movies_clean.csv')"
   ]
  },
  {
   "attachments": {},
   "cell_type": "markdown",
   "metadata": {},
   "source": [
    "Hacemos un shape del dataframe para conocer cuantas filas y cuantas columnas tiene "
   ]
  },
  {
   "cell_type": "code",
   "execution_count": 5,
   "metadata": {},
   "outputs": [
    {
     "data": {
      "text/plain": [
       "(45376, 21)"
      ]
     },
     "execution_count": 5,
     "metadata": {},
     "output_type": "execute_result"
    }
   ],
   "source": [
    "df.shape"
   ]
  },
  {
   "attachments": {},
   "cell_type": "markdown",
   "metadata": {},
   "source": [
    "Observamos las primeras 5 filas con .head"
   ]
  },
  {
   "cell_type": "code",
   "execution_count": 6,
   "metadata": {},
   "outputs": [
    {
     "data": {
      "text/html": [
       "<div>\n",
       "<style scoped>\n",
       "    .dataframe tbody tr th:only-of-type {\n",
       "        vertical-align: middle;\n",
       "    }\n",
       "\n",
       "    .dataframe tbody tr th {\n",
       "        vertical-align: top;\n",
       "    }\n",
       "\n",
       "    .dataframe thead th {\n",
       "        text-align: right;\n",
       "    }\n",
       "</style>\n",
       "<table border=\"1\" class=\"dataframe\">\n",
       "  <thead>\n",
       "    <tr style=\"text-align: right;\">\n",
       "      <th></th>\n",
       "      <th>belongs_to_collection</th>\n",
       "      <th>budget</th>\n",
       "      <th>genres</th>\n",
       "      <th>id</th>\n",
       "      <th>original_language</th>\n",
       "      <th>overview</th>\n",
       "      <th>popularity</th>\n",
       "      <th>production_companies</th>\n",
       "      <th>production_countries</th>\n",
       "      <th>release_date</th>\n",
       "      <th>...</th>\n",
       "      <th>runtime</th>\n",
       "      <th>spoken_languages</th>\n",
       "      <th>status</th>\n",
       "      <th>tagline</th>\n",
       "      <th>title</th>\n",
       "      <th>vote_average</th>\n",
       "      <th>release_year</th>\n",
       "      <th>return</th>\n",
       "      <th>release_month</th>\n",
       "      <th>release_day</th>\n",
       "    </tr>\n",
       "  </thead>\n",
       "  <tbody>\n",
       "    <tr>\n",
       "      <th>0</th>\n",
       "      <td>Toy Story Collection</td>\n",
       "      <td>30000000</td>\n",
       "      <td>['Animation', 'Comedy', 'Family']</td>\n",
       "      <td>862</td>\n",
       "      <td>en</td>\n",
       "      <td>Led by Woody, Andy's toys live happily in his ...</td>\n",
       "      <td>21.946943</td>\n",
       "      <td>['Pixar Animation Studios']</td>\n",
       "      <td>['United States of America']</td>\n",
       "      <td>1995-10-30</td>\n",
       "      <td>...</td>\n",
       "      <td>81.0</td>\n",
       "      <td>['English']</td>\n",
       "      <td>Released</td>\n",
       "      <td>NaN</td>\n",
       "      <td>Toy Story</td>\n",
       "      <td>7.7</td>\n",
       "      <td>1995.0</td>\n",
       "      <td>12.451801</td>\n",
       "      <td>octubre</td>\n",
       "      <td>lunes</td>\n",
       "    </tr>\n",
       "    <tr>\n",
       "      <th>1</th>\n",
       "      <td>NaN</td>\n",
       "      <td>65000000</td>\n",
       "      <td>['Adventure', 'Fantasy', 'Family']</td>\n",
       "      <td>8844</td>\n",
       "      <td>en</td>\n",
       "      <td>When siblings Judy and Peter discover an encha...</td>\n",
       "      <td>17.015539</td>\n",
       "      <td>['TriStar Pictures', 'Teitler Film', 'Intersco...</td>\n",
       "      <td>['United States of America']</td>\n",
       "      <td>1995-12-15</td>\n",
       "      <td>...</td>\n",
       "      <td>104.0</td>\n",
       "      <td>['English', 'Français']</td>\n",
       "      <td>Released</td>\n",
       "      <td>Roll the dice and unleash the excitement!</td>\n",
       "      <td>Jumanji</td>\n",
       "      <td>6.9</td>\n",
       "      <td>1995.0</td>\n",
       "      <td>4.043035</td>\n",
       "      <td>diciembre</td>\n",
       "      <td>viernes</td>\n",
       "    </tr>\n",
       "    <tr>\n",
       "      <th>2</th>\n",
       "      <td>Grumpy Old Men Collection</td>\n",
       "      <td>0</td>\n",
       "      <td>['Romance', 'Comedy']</td>\n",
       "      <td>15602</td>\n",
       "      <td>en</td>\n",
       "      <td>A family wedding reignites the ancient feud be...</td>\n",
       "      <td>11.712900</td>\n",
       "      <td>['Warner Bros.', 'Lancaster Gate']</td>\n",
       "      <td>['United States of America']</td>\n",
       "      <td>1995-12-22</td>\n",
       "      <td>...</td>\n",
       "      <td>101.0</td>\n",
       "      <td>['English']</td>\n",
       "      <td>Released</td>\n",
       "      <td>Still Yelling. Still Fighting. Still Ready for...</td>\n",
       "      <td>Grumpier Old Men</td>\n",
       "      <td>6.5</td>\n",
       "      <td>1995.0</td>\n",
       "      <td>0.000000</td>\n",
       "      <td>diciembre</td>\n",
       "      <td>viernes</td>\n",
       "    </tr>\n",
       "    <tr>\n",
       "      <th>3</th>\n",
       "      <td>NaN</td>\n",
       "      <td>16000000</td>\n",
       "      <td>['Comedy', 'Drama', 'Romance']</td>\n",
       "      <td>31357</td>\n",
       "      <td>en</td>\n",
       "      <td>Cheated on, mistreated and stepped on, the wom...</td>\n",
       "      <td>3.859495</td>\n",
       "      <td>['Twentieth Century Fox Film Corporation']</td>\n",
       "      <td>['United States of America']</td>\n",
       "      <td>1995-12-22</td>\n",
       "      <td>...</td>\n",
       "      <td>127.0</td>\n",
       "      <td>['English']</td>\n",
       "      <td>Released</td>\n",
       "      <td>Friends are the people who let you be yourself...</td>\n",
       "      <td>Waiting to Exhale</td>\n",
       "      <td>6.1</td>\n",
       "      <td>1995.0</td>\n",
       "      <td>5.090760</td>\n",
       "      <td>diciembre</td>\n",
       "      <td>viernes</td>\n",
       "    </tr>\n",
       "    <tr>\n",
       "      <th>4</th>\n",
       "      <td>Father of the Bride Collection</td>\n",
       "      <td>0</td>\n",
       "      <td>['Comedy']</td>\n",
       "      <td>11862</td>\n",
       "      <td>en</td>\n",
       "      <td>Just when George Banks has recovered from his ...</td>\n",
       "      <td>8.387519</td>\n",
       "      <td>['Sandollar Productions', 'Touchstone Pictures']</td>\n",
       "      <td>['United States of America']</td>\n",
       "      <td>1995-02-10</td>\n",
       "      <td>...</td>\n",
       "      <td>106.0</td>\n",
       "      <td>['English']</td>\n",
       "      <td>Released</td>\n",
       "      <td>Just When His World Is Back To Normal... He's ...</td>\n",
       "      <td>Father of the Bride Part II</td>\n",
       "      <td>5.7</td>\n",
       "      <td>1995.0</td>\n",
       "      <td>0.000000</td>\n",
       "      <td>febrero</td>\n",
       "      <td>viernes</td>\n",
       "    </tr>\n",
       "  </tbody>\n",
       "</table>\n",
       "<p>5 rows × 21 columns</p>\n",
       "</div>"
      ],
      "text/plain": [
       "            belongs_to_collection    budget   \n",
       "0            Toy Story Collection  30000000  \\\n",
       "1                             NaN  65000000   \n",
       "2       Grumpy Old Men Collection         0   \n",
       "3                             NaN  16000000   \n",
       "4  Father of the Bride Collection         0   \n",
       "\n",
       "                               genres     id original_language   \n",
       "0   ['Animation', 'Comedy', 'Family']    862                en  \\\n",
       "1  ['Adventure', 'Fantasy', 'Family']   8844                en   \n",
       "2               ['Romance', 'Comedy']  15602                en   \n",
       "3      ['Comedy', 'Drama', 'Romance']  31357                en   \n",
       "4                          ['Comedy']  11862                en   \n",
       "\n",
       "                                            overview  popularity   \n",
       "0  Led by Woody, Andy's toys live happily in his ...   21.946943  \\\n",
       "1  When siblings Judy and Peter discover an encha...   17.015539   \n",
       "2  A family wedding reignites the ancient feud be...   11.712900   \n",
       "3  Cheated on, mistreated and stepped on, the wom...    3.859495   \n",
       "4  Just when George Banks has recovered from his ...    8.387519   \n",
       "\n",
       "                                production_companies   \n",
       "0                        ['Pixar Animation Studios']  \\\n",
       "1  ['TriStar Pictures', 'Teitler Film', 'Intersco...   \n",
       "2                 ['Warner Bros.', 'Lancaster Gate']   \n",
       "3         ['Twentieth Century Fox Film Corporation']   \n",
       "4   ['Sandollar Productions', 'Touchstone Pictures']   \n",
       "\n",
       "           production_countries release_date  ...  runtime   \n",
       "0  ['United States of America']   1995-10-30  ...     81.0  \\\n",
       "1  ['United States of America']   1995-12-15  ...    104.0   \n",
       "2  ['United States of America']   1995-12-22  ...    101.0   \n",
       "3  ['United States of America']   1995-12-22  ...    127.0   \n",
       "4  ['United States of America']   1995-02-10  ...    106.0   \n",
       "\n",
       "          spoken_languages    status   \n",
       "0              ['English']  Released  \\\n",
       "1  ['English', 'Français']  Released   \n",
       "2              ['English']  Released   \n",
       "3              ['English']  Released   \n",
       "4              ['English']  Released   \n",
       "\n",
       "                                             tagline   \n",
       "0                                                NaN  \\\n",
       "1          Roll the dice and unleash the excitement!   \n",
       "2  Still Yelling. Still Fighting. Still Ready for...   \n",
       "3  Friends are the people who let you be yourself...   \n",
       "4  Just When His World Is Back To Normal... He's ...   \n",
       "\n",
       "                         title vote_average  release_year     return   \n",
       "0                    Toy Story          7.7        1995.0  12.451801  \\\n",
       "1                      Jumanji          6.9        1995.0   4.043035   \n",
       "2             Grumpier Old Men          6.5        1995.0   0.000000   \n",
       "3            Waiting to Exhale          6.1        1995.0   5.090760   \n",
       "4  Father of the Bride Part II          5.7        1995.0   0.000000   \n",
       "\n",
       "   release_month release_day  \n",
       "0        octubre       lunes  \n",
       "1      diciembre     viernes  \n",
       "2      diciembre     viernes  \n",
       "3      diciembre     viernes  \n",
       "4        febrero     viernes  \n",
       "\n",
       "[5 rows x 21 columns]"
      ]
     },
     "execution_count": 6,
     "metadata": {},
     "output_type": "execute_result"
    }
   ],
   "source": [
    "df.head()"
   ]
  },
  {
   "attachments": {},
   "cell_type": "markdown",
   "metadata": {},
   "source": [
    "Observamos que tipo de datos tienen as columnas que vamos a analizar"
   ]
  },
  {
   "cell_type": "code",
   "execution_count": 7,
   "metadata": {},
   "outputs": [
    {
     "data": {
      "text/plain": [
       "belongs_to_collection     object\n",
       "budget                     int64\n",
       "genres                    object\n",
       "id                         int64\n",
       "original_language         object\n",
       "overview                  object\n",
       "popularity               float64\n",
       "production_companies      object\n",
       "production_countries      object\n",
       "release_date              object\n",
       "revenue                  float64\n",
       "runtime                  float64\n",
       "spoken_languages          object\n",
       "status                    object\n",
       "tagline                   object\n",
       "title                     object\n",
       "vote_average             float64\n",
       "release_year             float64\n",
       "return                   float64\n",
       "release_month             object\n",
       "release_day               object\n",
       "dtype: object"
      ]
     },
     "execution_count": 7,
     "metadata": {},
     "output_type": "execute_result"
    }
   ],
   "source": [
    "df.dtypes"
   ]
  },
  {
   "attachments": {},
   "cell_type": "markdown",
   "metadata": {},
   "source": [
    "En el siguiente paso eliminaremos las columas que nos parecen irrelevantes para desarrollar nuestro modelo de prediccion\n"
   ]
  },
  {
   "attachments": {},
   "cell_type": "markdown",
   "metadata": {},
   "source": [
    "Solamente nos quedaremos con las siguientes columas: belongs_to_collection, genres, overview, production_companies, title y vote_average"
   ]
  },
  {
   "cell_type": "code",
   "execution_count": 8,
   "metadata": {},
   "outputs": [],
   "source": [
    "df = df.drop(['budget', 'id', 'original_language', 'production_countries', 'revenue', 'release_date', 'revenue', 'runtime', 'spoken_languages', 'status', 'tagline', 'return', 'release_year', 'release_day'], axis=1)"
   ]
  },
  {
   "cell_type": "code",
   "execution_count": 9,
   "metadata": {},
   "outputs": [
    {
     "data": {
      "text/html": [
       "<div>\n",
       "<style scoped>\n",
       "    .dataframe tbody tr th:only-of-type {\n",
       "        vertical-align: middle;\n",
       "    }\n",
       "\n",
       "    .dataframe tbody tr th {\n",
       "        vertical-align: top;\n",
       "    }\n",
       "\n",
       "    .dataframe thead th {\n",
       "        text-align: right;\n",
       "    }\n",
       "</style>\n",
       "<table border=\"1\" class=\"dataframe\">\n",
       "  <thead>\n",
       "    <tr style=\"text-align: right;\">\n",
       "      <th></th>\n",
       "      <th>belongs_to_collection</th>\n",
       "      <th>genres</th>\n",
       "      <th>overview</th>\n",
       "      <th>popularity</th>\n",
       "      <th>production_companies</th>\n",
       "      <th>title</th>\n",
       "      <th>vote_average</th>\n",
       "      <th>release_month</th>\n",
       "    </tr>\n",
       "  </thead>\n",
       "  <tbody>\n",
       "    <tr>\n",
       "      <th>0</th>\n",
       "      <td>Toy Story Collection</td>\n",
       "      <td>['Animation', 'Comedy', 'Family']</td>\n",
       "      <td>Led by Woody, Andy's toys live happily in his ...</td>\n",
       "      <td>21.946943</td>\n",
       "      <td>['Pixar Animation Studios']</td>\n",
       "      <td>Toy Story</td>\n",
       "      <td>7.7</td>\n",
       "      <td>octubre</td>\n",
       "    </tr>\n",
       "    <tr>\n",
       "      <th>1</th>\n",
       "      <td>NaN</td>\n",
       "      <td>['Adventure', 'Fantasy', 'Family']</td>\n",
       "      <td>When siblings Judy and Peter discover an encha...</td>\n",
       "      <td>17.015539</td>\n",
       "      <td>['TriStar Pictures', 'Teitler Film', 'Intersco...</td>\n",
       "      <td>Jumanji</td>\n",
       "      <td>6.9</td>\n",
       "      <td>diciembre</td>\n",
       "    </tr>\n",
       "    <tr>\n",
       "      <th>2</th>\n",
       "      <td>Grumpy Old Men Collection</td>\n",
       "      <td>['Romance', 'Comedy']</td>\n",
       "      <td>A family wedding reignites the ancient feud be...</td>\n",
       "      <td>11.712900</td>\n",
       "      <td>['Warner Bros.', 'Lancaster Gate']</td>\n",
       "      <td>Grumpier Old Men</td>\n",
       "      <td>6.5</td>\n",
       "      <td>diciembre</td>\n",
       "    </tr>\n",
       "    <tr>\n",
       "      <th>3</th>\n",
       "      <td>NaN</td>\n",
       "      <td>['Comedy', 'Drama', 'Romance']</td>\n",
       "      <td>Cheated on, mistreated and stepped on, the wom...</td>\n",
       "      <td>3.859495</td>\n",
       "      <td>['Twentieth Century Fox Film Corporation']</td>\n",
       "      <td>Waiting to Exhale</td>\n",
       "      <td>6.1</td>\n",
       "      <td>diciembre</td>\n",
       "    </tr>\n",
       "    <tr>\n",
       "      <th>4</th>\n",
       "      <td>Father of the Bride Collection</td>\n",
       "      <td>['Comedy']</td>\n",
       "      <td>Just when George Banks has recovered from his ...</td>\n",
       "      <td>8.387519</td>\n",
       "      <td>['Sandollar Productions', 'Touchstone Pictures']</td>\n",
       "      <td>Father of the Bride Part II</td>\n",
       "      <td>5.7</td>\n",
       "      <td>febrero</td>\n",
       "    </tr>\n",
       "  </tbody>\n",
       "</table>\n",
       "</div>"
      ],
      "text/plain": [
       "            belongs_to_collection                              genres   \n",
       "0            Toy Story Collection   ['Animation', 'Comedy', 'Family']  \\\n",
       "1                             NaN  ['Adventure', 'Fantasy', 'Family']   \n",
       "2       Grumpy Old Men Collection               ['Romance', 'Comedy']   \n",
       "3                             NaN      ['Comedy', 'Drama', 'Romance']   \n",
       "4  Father of the Bride Collection                          ['Comedy']   \n",
       "\n",
       "                                            overview  popularity   \n",
       "0  Led by Woody, Andy's toys live happily in his ...   21.946943  \\\n",
       "1  When siblings Judy and Peter discover an encha...   17.015539   \n",
       "2  A family wedding reignites the ancient feud be...   11.712900   \n",
       "3  Cheated on, mistreated and stepped on, the wom...    3.859495   \n",
       "4  Just when George Banks has recovered from his ...    8.387519   \n",
       "\n",
       "                                production_companies   \n",
       "0                        ['Pixar Animation Studios']  \\\n",
       "1  ['TriStar Pictures', 'Teitler Film', 'Intersco...   \n",
       "2                 ['Warner Bros.', 'Lancaster Gate']   \n",
       "3         ['Twentieth Century Fox Film Corporation']   \n",
       "4   ['Sandollar Productions', 'Touchstone Pictures']   \n",
       "\n",
       "                         title  vote_average release_month  \n",
       "0                    Toy Story           7.7       octubre  \n",
       "1                      Jumanji           6.9     diciembre  \n",
       "2             Grumpier Old Men           6.5     diciembre  \n",
       "3            Waiting to Exhale           6.1     diciembre  \n",
       "4  Father of the Bride Part II           5.7       febrero  "
      ]
     },
     "execution_count": 9,
     "metadata": {},
     "output_type": "execute_result"
    }
   ],
   "source": [
    "df.head()"
   ]
  },
  {
   "attachments": {},
   "cell_type": "markdown",
   "metadata": {},
   "source": [
    "Observamos cuantos valores faltantes o nulos hay"
   ]
  },
  {
   "cell_type": "code",
   "execution_count": 10,
   "metadata": {},
   "outputs": [
    {
     "data": {
      "text/plain": [
       "belongs_to_collection    40888\n",
       "genres                       0\n",
       "overview                   941\n",
       "popularity                   0\n",
       "production_companies     11796\n",
       "title                        0\n",
       "vote_average                 0\n",
       "release_month                0\n",
       "dtype: int64"
      ]
     },
     "execution_count": 10,
     "metadata": {},
     "output_type": "execute_result"
    }
   ],
   "source": [
    "df.isna().sum()"
   ]
  },
  {
   "attachments": {},
   "cell_type": "markdown",
   "metadata": {},
   "source": [
    "Podemos concluir que la columna 'belongs_to_collection' casi la totalidad de sus valores nulos, por lo que procederemos a eliminarla de nuestro analisis. Seria una muy buena fuente para filtrar y quizas una de las mas importantes si tuviera los datos correspondientes "
   ]
  },
  {
   "cell_type": "code",
   "execution_count": 11,
   "metadata": {},
   "outputs": [],
   "source": [
    "df = df.drop(['belongs_to_collection'], axis=1)"
   ]
  },
  {
   "cell_type": "code",
   "execution_count": 12,
   "metadata": {},
   "outputs": [
    {
     "data": {
      "text/html": [
       "<div>\n",
       "<style scoped>\n",
       "    .dataframe tbody tr th:only-of-type {\n",
       "        vertical-align: middle;\n",
       "    }\n",
       "\n",
       "    .dataframe tbody tr th {\n",
       "        vertical-align: top;\n",
       "    }\n",
       "\n",
       "    .dataframe thead th {\n",
       "        text-align: right;\n",
       "    }\n",
       "</style>\n",
       "<table border=\"1\" class=\"dataframe\">\n",
       "  <thead>\n",
       "    <tr style=\"text-align: right;\">\n",
       "      <th></th>\n",
       "      <th>genres</th>\n",
       "      <th>overview</th>\n",
       "      <th>popularity</th>\n",
       "      <th>production_companies</th>\n",
       "      <th>title</th>\n",
       "      <th>vote_average</th>\n",
       "      <th>release_month</th>\n",
       "    </tr>\n",
       "  </thead>\n",
       "  <tbody>\n",
       "    <tr>\n",
       "      <th>0</th>\n",
       "      <td>['Animation', 'Comedy', 'Family']</td>\n",
       "      <td>Led by Woody, Andy's toys live happily in his ...</td>\n",
       "      <td>21.946943</td>\n",
       "      <td>['Pixar Animation Studios']</td>\n",
       "      <td>Toy Story</td>\n",
       "      <td>7.7</td>\n",
       "      <td>octubre</td>\n",
       "    </tr>\n",
       "    <tr>\n",
       "      <th>1</th>\n",
       "      <td>['Adventure', 'Fantasy', 'Family']</td>\n",
       "      <td>When siblings Judy and Peter discover an encha...</td>\n",
       "      <td>17.015539</td>\n",
       "      <td>['TriStar Pictures', 'Teitler Film', 'Intersco...</td>\n",
       "      <td>Jumanji</td>\n",
       "      <td>6.9</td>\n",
       "      <td>diciembre</td>\n",
       "    </tr>\n",
       "    <tr>\n",
       "      <th>2</th>\n",
       "      <td>['Romance', 'Comedy']</td>\n",
       "      <td>A family wedding reignites the ancient feud be...</td>\n",
       "      <td>11.712900</td>\n",
       "      <td>['Warner Bros.', 'Lancaster Gate']</td>\n",
       "      <td>Grumpier Old Men</td>\n",
       "      <td>6.5</td>\n",
       "      <td>diciembre</td>\n",
       "    </tr>\n",
       "    <tr>\n",
       "      <th>3</th>\n",
       "      <td>['Comedy', 'Drama', 'Romance']</td>\n",
       "      <td>Cheated on, mistreated and stepped on, the wom...</td>\n",
       "      <td>3.859495</td>\n",
       "      <td>['Twentieth Century Fox Film Corporation']</td>\n",
       "      <td>Waiting to Exhale</td>\n",
       "      <td>6.1</td>\n",
       "      <td>diciembre</td>\n",
       "    </tr>\n",
       "    <tr>\n",
       "      <th>4</th>\n",
       "      <td>['Comedy']</td>\n",
       "      <td>Just when George Banks has recovered from his ...</td>\n",
       "      <td>8.387519</td>\n",
       "      <td>['Sandollar Productions', 'Touchstone Pictures']</td>\n",
       "      <td>Father of the Bride Part II</td>\n",
       "      <td>5.7</td>\n",
       "      <td>febrero</td>\n",
       "    </tr>\n",
       "  </tbody>\n",
       "</table>\n",
       "</div>"
      ],
      "text/plain": [
       "                               genres   \n",
       "0   ['Animation', 'Comedy', 'Family']  \\\n",
       "1  ['Adventure', 'Fantasy', 'Family']   \n",
       "2               ['Romance', 'Comedy']   \n",
       "3      ['Comedy', 'Drama', 'Romance']   \n",
       "4                          ['Comedy']   \n",
       "\n",
       "                                            overview  popularity   \n",
       "0  Led by Woody, Andy's toys live happily in his ...   21.946943  \\\n",
       "1  When siblings Judy and Peter discover an encha...   17.015539   \n",
       "2  A family wedding reignites the ancient feud be...   11.712900   \n",
       "3  Cheated on, mistreated and stepped on, the wom...    3.859495   \n",
       "4  Just when George Banks has recovered from his ...    8.387519   \n",
       "\n",
       "                                production_companies   \n",
       "0                        ['Pixar Animation Studios']  \\\n",
       "1  ['TriStar Pictures', 'Teitler Film', 'Intersco...   \n",
       "2                 ['Warner Bros.', 'Lancaster Gate']   \n",
       "3         ['Twentieth Century Fox Film Corporation']   \n",
       "4   ['Sandollar Productions', 'Touchstone Pictures']   \n",
       "\n",
       "                         title  vote_average release_month  \n",
       "0                    Toy Story           7.7       octubre  \n",
       "1                      Jumanji           6.9     diciembre  \n",
       "2             Grumpier Old Men           6.5     diciembre  \n",
       "3            Waiting to Exhale           6.1     diciembre  \n",
       "4  Father of the Bride Part II           5.7       febrero  "
      ]
     },
     "execution_count": 12,
     "metadata": {},
     "output_type": "execute_result"
    }
   ],
   "source": [
    "df.head()"
   ]
  },
  {
   "cell_type": "code",
   "execution_count": 13,
   "metadata": {},
   "outputs": [
    {
     "name": "stdout",
     "output_type": "stream",
     "text": [
      "<class 'pandas.core.frame.DataFrame'>\n",
      "RangeIndex: 45376 entries, 0 to 45375\n",
      "Data columns (total 7 columns):\n",
      " #   Column                Non-Null Count  Dtype  \n",
      "---  ------                --------------  -----  \n",
      " 0   genres                45376 non-null  object \n",
      " 1   overview              44435 non-null  object \n",
      " 2   popularity            45376 non-null  float64\n",
      " 3   production_companies  33580 non-null  object \n",
      " 4   title                 45376 non-null  object \n",
      " 5   vote_average          45376 non-null  float64\n",
      " 6   release_month         45376 non-null  object \n",
      "dtypes: float64(2), object(5)\n",
      "memory usage: 2.4+ MB\n"
     ]
    }
   ],
   "source": [
    "df.info()"
   ]
  },
  {
   "cell_type": "code",
   "execution_count": 37,
   "metadata": {},
   "outputs": [
    {
     "data": {
      "image/png": "[encoded data removed]",
      "text/plain": [
       "<Figure size 640x480 with 1 Axes>"
      ]
     },
     "metadata": {},
     "output_type": "display_data"
    }
   ],
   "source": [
    "sns.histplot(data=df, x='popularity', kde=True)\n",
    "plt.xlabel('Popularidad')\n",
    "plt.ylabel('Frecuencia')\n",
    "plt.title('Histograma de Popularidad')\n",
    "#limito los ejes\n",
    "plt.xlim(0, 25)\n",
    "plt.ylim(0, 2500)\n",
    "plt.show()\n"
   ]
  },
  {
   "attachments": {},
   "cell_type": "markdown",
   "metadata": {},
   "source": [
    "Observamos un sesgo muy grande hacia la derecha, lo que quiere decir que hay una cantidad muy grande de peliculas con una puntutacion baja de popularidad y hay un numero muy pequeño de peliculas que alcanzaron una popularidad muy alta. Esto nos podria afectar a nuestro analisis ya que al haber un alto sesgo puede afectar a los valores como la media y la mediana"
   ]
  },
  {
   "cell_type": "code",
   "execution_count": 42,
   "metadata": {},
   "outputs": [],
   "source": [
    "popularity = df['popularity']\n",
    "vote_average = df['vote_average']"
   ]
  },
  {
   "attachments": {},
   "cell_type": "markdown",
   "metadata": {},
   "source": [
    "Para tener una vista un poco mas detallada numericamente "
   ]
  },
  {
   "cell_type": "code",
   "execution_count": 14,
   "metadata": {},
   "outputs": [
    {
     "data": {
      "text/plain": [
       "popularity\n",
       "(-0.548, 27.374]      45242\n",
       "(27.374, 54.749]        103\n",
       "(54.749, 82.123]         11\n",
       "(82.123, 109.498]         4\n",
       "(109.498, 136.872]        2\n",
       "(136.872, 164.246]        5\n",
       "(164.246, 191.621]        4\n",
       "(191.621, 218.995]        1\n",
       "(218.995, 246.37]         1\n",
       "(246.37, 273.744]         0\n",
       "(273.744, 301.119]        2\n",
       "(301.119, 328.493]        0\n",
       "(328.493, 355.867]        0\n",
       "(355.867, 383.242]        0\n",
       "(383.242, 410.616]        0\n",
       "(410.616, 437.991]        0\n",
       "(437.991, 465.365]        0\n",
       "(465.365, 492.739]        0\n",
       "(492.739, 520.114]        0\n",
       "(520.114, 547.488]        1\n",
       "Name: count, dtype: int64"
      ]
     },
     "execution_count": 14,
     "metadata": {},
     "output_type": "execute_result"
    }
   ],
   "source": [
    "df['popularity'].value_counts(bins=20).sort_index()"
   ]
  },
  {
   "attachments": {},
   "cell_type": "markdown",
   "metadata": {},
   "source": [
    "Con estos valores, si quisieramos realizar algun calculo estadistico, lo mas razonable seria tomar valores hasta 82.123 para no afectar tanto la media o mediana con los demas valores atipicos. "
   ]
  },
  {
   "attachments": {},
   "cell_type": "markdown",
   "metadata": {},
   "source": [
    "Observamos de la misma manera el promedio de votos"
   ]
  },
  {
   "cell_type": "code",
   "execution_count": 15,
   "metadata": {},
   "outputs": [
    {
     "data": {
      "text/plain": [
       "vote_average\n",
       "(-0.011, 0.5]    2960\n",
       "(0.5, 1.0]        104\n",
       "(1.0, 1.5]         53\n",
       "(1.5, 2.0]        158\n",
       "(2.0, 2.5]        223\n",
       "(2.5, 3.0]        443\n",
       "(3.0, 3.5]        632\n",
       "(3.5, 4.0]       1403\n",
       "(4.0, 4.5]       1841\n",
       "(4.5, 5.0]       4010\n",
       "(5.0, 5.5]       4711\n",
       "(5.5, 6.0]       7078\n",
       "(6.0, 6.5]       7209\n",
       "(6.5, 7.0]       6848\n",
       "(7.0, 7.5]       4227\n",
       "(7.5, 8.0]       2354\n",
       "(8.0, 8.5]        623\n",
       "(8.5, 9.0]        267\n",
       "(9.0, 9.5]         45\n",
       "(9.5, 10.0]       187\n",
       "Name: count, dtype: int64"
      ]
     },
     "execution_count": 15,
     "metadata": {},
     "output_type": "execute_result"
    }
   ],
   "source": [
    "df['vote_average'].value_counts(bins=20).sort_index()"
   ]
  },
  {
   "attachments": {},
   "cell_type": "markdown",
   "metadata": {},
   "source": [
    "No se nota a simple vista una gran cantidad de valores atipicos, lo que se podria hacer es consultar por los valores nulos, por mi parte los eliminaria y tomaria unicamente los que van entre 0 y 10 "
   ]
  },
  {
   "attachments": {},
   "cell_type": "markdown",
   "metadata": {},
   "source": [
    "Realizamos un grafico para observar la relacion entre la popularidad de la pelicula y el promedio de votos "
   ]
  },
  {
   "cell_type": "code",
   "execution_count": 43,
   "metadata": {},
   "outputs": [
    {
     "data": {
      "image/png": "[encoded data removed]",
      "text/plain": [
       "<Figure size 1000x600 with 1 Axes>"
      ]
     },
     "metadata": {},
     "output_type": "display_data"
    }
   ],
   "source": [
    "plt.figure(figsize=(10, 6))  \n",
    "plt.scatter(popularity, vote_average)\n",
    "plt.xlabel('Popularidad')\n",
    "plt.ylabel('Promedio de votos')\n",
    "plt.title('Relación entre Popularidad y Promedio de Votos')\n",
    "plt.show()"
   ]
  },
  {
   "attachments": {},
   "cell_type": "markdown",
   "metadata": {},
   "source": [
    "Realizamos un analisis para ver, de mayor a menor, en que mes se suelen estrenar la mayor cantidad de peliculas historicamente"
   ]
  },
  {
   "cell_type": "code",
   "execution_count": 17,
   "metadata": {},
   "outputs": [
    {
     "data": {
      "image/png": "[encoded data removed]",
      "text/plain": [
       "<Figure size 1200x500 with 1 Axes>"
      ]
     },
     "metadata": {},
     "output_type": "display_data"
    }
   ],
   "source": [
    "plt.figure(figsize=(12, 5))\n",
    "sns.countplot(x='release_month', data=df, order=df['release_month'].value_counts().index)\n",
    "plt.xlabel('Mes de estreno')\n",
    "plt.ylabel('Cantidad (peliculas)')\n",
    "plt.title('Cantidad de peliculas que se estrenaron por mes')\n",
    "plt.show()"
   ]
  },
  {
   "attachments": {},
   "cell_type": "markdown",
   "metadata": {},
   "source": [
    "Podemos concluir que el mes de enero supera ampliamente a los otros con los registros historicos de estreno, habria que hacer un analisis mas exaustivo para ver por que es asi"
   ]
  },
  {
   "attachments": {},
   "cell_type": "markdown",
   "metadata": {},
   "source": [
    "De todas formas para el modelo en particular que vamos a desarrollar no nos sirven mucho estos analisis, ya que solamente tendremos en cuenta los titulos de la pelicula "
   ]
  },
  {
   "attachments": {},
   "cell_type": "markdown",
   "metadata": {},
   "source": [
    "Nos vemos obligados a tomar solamente esta variable y solo 17000 datos del dataframe original para poder procesar los datos en el computador y poder hacer el correspondiente deploy sin superar la capacidad gratuita que nos ofrecen las distintas paginas. "
   ]
  },
  {
   "attachments": {},
   "cell_type": "markdown",
   "metadata": {},
   "source": [
    "En un futuro me gustaria analizar junto con la columna de los titulos la columna de los resumenes de las peliculas ('overview') y de los generos ('genres'). Ya que de esta manera si obtendriamos una prediccion bastante acertada\n"
   ]
  }
 ],
 "metadata": {
  "kernelspec": {
   "display_name": "venv",
   "language": "python",
   "name": "python3"
  },
  "language_info": {
   "codemirror_mode": {
    "name": "ipython",
    "version": 3
   },
   "file_extension": ".py",
   "mimetype": "text/x-python",
   "name": "python",
   "nbconvert_exporter": "python",
   "pygments_lexer": "ipython3",
   "version": "3.11.1"
  },
  "orig_nbformat": 4
 },
 "nbformat": 4,
 "nbformat_minor": 2
}
